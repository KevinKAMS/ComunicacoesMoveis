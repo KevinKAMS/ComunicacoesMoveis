{
  "nbformat": 4,
  "nbformat_minor": 0,
  "metadata": {
    "colab": {
      "name": "triangulacao.ipynb",
      "provenance": [],
      "collapsed_sections": []
    },
    "kernelspec": {
      "name": "python3",
      "display_name": "Python 3"
    },
    "language_info": {
      "name": "python"
    }
  },
  "cells": [
    {
      "cell_type": "code",
      "metadata": {
        "id": "8rMzKS73gr83"
      },
      "source": [
        "import pandas as pd\n",
        "import math\n",
        "from math import pi\n",
        "import numpy as np\n",
        "from numpy.linalg import inv\n",
        "import geopy.distance\n",
        "from matplotlib import pyplot as plt\n",
        "import seaborn as sns\n",
        "\n"
      ],
      "execution_count": 1,
      "outputs": []
    },
    {
      "cell_type": "code",
      "metadata": {
        "id": "7F6YY3NLhyhI"
      },
      "source": [
        "ipt = pd.read_csv(\"input.csv\")"
      ],
      "execution_count": 27,
      "outputs": []
    },
    {
      "cell_type": "code",
      "metadata": {
        "id": "Juzy5ZQWidhe",
        "colab": {
          "base_uri": "https://localhost:8080/",
          "height": 234
        },
        "outputId": "699606a5-93a0-4f95-d0f0-bab3dae56a51"
      },
      "source": [
        "ipt"
      ],
      "execution_count": 28,
      "outputs": [
        {
          "output_type": "execute_result",
          "data": {
            "text/html": [
              "<div>\n",
              "<style scoped>\n",
              "    .dataframe tbody tr th:only-of-type {\n",
              "        vertical-align: middle;\n",
              "    }\n",
              "\n",
              "    .dataframe tbody tr th {\n",
              "        vertical-align: top;\n",
              "    }\n",
              "\n",
              "    .dataframe thead th {\n",
              "        text-align: right;\n",
              "    }\n",
              "</style>\n",
              "<table border=\"1\" class=\"dataframe\">\n",
              "  <thead>\n",
              "    <tr style=\"text-align: right;\">\n",
              "      <th></th>\n",
              "      <th>name</th>\n",
              "      <th>lat</th>\n",
              "      <th>lon</th>\n",
              "      <th>band</th>\n",
              "      <th>bcch</th>\n",
              "      <th>eirp</th>\n",
              "      <th>bts</th>\n",
              "    </tr>\n",
              "  </thead>\n",
              "  <tbody>\n",
              "    <tr>\n",
              "      <th>0</th>\n",
              "      <td>136_2</td>\n",
              "      <td>-8,068361111</td>\n",
              "      <td>-34,892722222</td>\n",
              "      <td>GSM1800</td>\n",
              "      <td>662</td>\n",
              "      <td>55,59</td>\n",
              "      <td>BTS-1</td>\n",
              "    </tr>\n",
              "    <tr>\n",
              "      <th>1</th>\n",
              "      <td>137_3</td>\n",
              "      <td>-8,075916667</td>\n",
              "      <td>-34,8946111110</td>\n",
              "      <td>GSM1800</td>\n",
              "      <td>806</td>\n",
              "      <td>55,59</td>\n",
              "      <td>BTS-2</td>\n",
              "    </tr>\n",
              "    <tr>\n",
              "      <th>2</th>\n",
              "      <td>197_1</td>\n",
              "      <td>-8,0763611110</td>\n",
              "      <td>-34,908000000</td>\n",
              "      <td>GSM1800</td>\n",
              "      <td>666</td>\n",
              "      <td>55,59</td>\n",
              "      <td>BTS-3</td>\n",
              "    </tr>\n",
              "    <tr>\n",
              "      <th>3</th>\n",
              "      <td>137_1</td>\n",
              "      <td>-8,0759166670</td>\n",
              "      <td>-34,894611112</td>\n",
              "      <td>GSM1800</td>\n",
              "      <td>690</td>\n",
              "      <td>55,59</td>\n",
              "      <td>BTS-4</td>\n",
              "    </tr>\n",
              "    <tr>\n",
              "      <th>4</th>\n",
              "      <td>138_2</td>\n",
              "      <td>-8,0660000000</td>\n",
              "      <td>-34,889444444</td>\n",
              "      <td>GSM1800</td>\n",
              "      <td>673</td>\n",
              "      <td>55,59</td>\n",
              "      <td>BTS-5</td>\n",
              "    </tr>\n",
              "    <tr>\n",
              "      <th>5</th>\n",
              "      <td>245_2</td>\n",
              "      <td>-8,0645833333</td>\n",
              "      <td>-34,8945833333</td>\n",
              "      <td>GSM1800</td>\n",
              "      <td>682</td>\n",
              "      <td>55,59</td>\n",
              "      <td>BTS-6</td>\n",
              "    </tr>\n",
              "  </tbody>\n",
              "</table>\n",
              "</div>"
            ],
            "text/plain": [
              "    name            lat             lon     band  bcch   eirp    bts\n",
              "0  136_2   -8,068361111   -34,892722222  GSM1800   662  55,59  BTS-1\n",
              "1  137_3   -8,075916667  -34,8946111110  GSM1800   806  55,59  BTS-2\n",
              "2  197_1  -8,0763611110   -34,908000000  GSM1800   666  55,59  BTS-3\n",
              "3  137_1  -8,0759166670   -34,894611112  GSM1800   690  55,59  BTS-4\n",
              "4  138_2  -8,0660000000   -34,889444444  GSM1800   673  55,59  BTS-5\n",
              "5  245_2  -8,0645833333  -34,8945833333  GSM1800   682  55,59  BTS-6"
            ]
          },
          "metadata": {},
          "execution_count": 28
        }
      ]
    },
    {
      "cell_type": "code",
      "metadata": {
        "colab": {
          "base_uri": "https://localhost:8080/",
          "height": 223
        },
        "id": "NV0yObxSii7Z",
        "outputId": "7fba70ae-fbb4-403e-9924-a0052da0ee8c"
      },
      "source": [
        "train = pd.read_csv(\"treino.csv\")\n",
        "train.head()"
      ],
      "execution_count": 29,
      "outputs": [
        {
          "output_type": "execute_result",
          "data": {
            "text/html": [
              "<div>\n",
              "<style scoped>\n",
              "    .dataframe tbody tr th:only-of-type {\n",
              "        vertical-align: middle;\n",
              "    }\n",
              "\n",
              "    .dataframe tbody tr th {\n",
              "        vertical-align: top;\n",
              "    }\n",
              "\n",
              "    .dataframe thead th {\n",
              "        text-align: right;\n",
              "    }\n",
              "</style>\n",
              "<table border=\"1\" class=\"dataframe\">\n",
              "  <thead>\n",
              "    <tr style=\"text-align: right;\">\n",
              "      <th></th>\n",
              "      <th>pontoId</th>\n",
              "      <th>lat</th>\n",
              "      <th>lon</th>\n",
              "      <th>pathBTS1</th>\n",
              "      <th>pathBTS2</th>\n",
              "      <th>pathBTS3</th>\n",
              "      <th>pathBTS4</th>\n",
              "      <th>pathBTS5</th>\n",
              "      <th>pathBTS6</th>\n",
              "      <th>taBTS1</th>\n",
              "      <th>taBTS2</th>\n",
              "      <th>taBTS3</th>\n",
              "      <th>taBTS4</th>\n",
              "      <th>taBTS5</th>\n",
              "      <th>taBTS6</th>\n",
              "    </tr>\n",
              "  </thead>\n",
              "  <tbody>\n",
              "    <tr>\n",
              "      <th>0</th>\n",
              "      <td>2818</td>\n",
              "      <td>-8.062.787</td>\n",
              "      <td>-34.897.289</td>\n",
              "      <td>131.79</td>\n",
              "      <td>105.09</td>\n",
              "      <td>125.656.666.666.667</td>\n",
              "      <td>105.756.666.666.667</td>\n",
              "      <td>128.49</td>\n",
              "      <td>115.99</td>\n",
              "      <td>1</td>\n",
              "      <td>2</td>\n",
              "      <td>3</td>\n",
              "      <td>2</td>\n",
              "      <td>1</td>\n",
              "      <td>0</td>\n",
              "    </tr>\n",
              "    <tr>\n",
              "      <th>1</th>\n",
              "      <td>212</td>\n",
              "      <td>-8.076.408</td>\n",
              "      <td>-34.899.723</td>\n",
              "      <td>120.59</td>\n",
              "      <td>112.123.333.333.333</td>\n",
              "      <td>124.856.666.666.667</td>\n",
              "      <td>132.023.333.333.333</td>\n",
              "      <td>135.523.333.333.333</td>\n",
              "      <td>141.19</td>\n",
              "      <td>2</td>\n",
              "      <td>1</td>\n",
              "      <td>1</td>\n",
              "      <td>1</td>\n",
              "      <td>2</td>\n",
              "      <td>2</td>\n",
              "    </tr>\n",
              "    <tr>\n",
              "      <th>2</th>\n",
              "      <td>500</td>\n",
              "      <td>-8.074.771</td>\n",
              "      <td>-34.890.739</td>\n",
              "      <td>118.723.333.333.333</td>\n",
              "      <td>128.556.666.666.667</td>\n",
              "      <td>130.09</td>\n",
              "      <td>989.566.666.666.667</td>\n",
              "      <td>128.59</td>\n",
              "      <td>146.423.333.333.333</td>\n",
              "      <td>1</td>\n",
              "      <td>0</td>\n",
              "      <td>3</td>\n",
              "      <td>0</td>\n",
              "      <td>1</td>\n",
              "      <td>2</td>\n",
              "    </tr>\n",
              "    <tr>\n",
              "      <th>3</th>\n",
              "      <td>2094</td>\n",
              "      <td>-806.803</td>\n",
              "      <td>-34.896.683</td>\n",
              "      <td>111.49</td>\n",
              "      <td>109.723.333.333.333</td>\n",
              "      <td>108.056.666.666.667</td>\n",
              "      <td>973.566.666.666.667</td>\n",
              "      <td>118.456.666.666.667</td>\n",
              "      <td>997.233.333.333.333</td>\n",
              "      <td>0</td>\n",
              "      <td>1</td>\n",
              "      <td>2</td>\n",
              "      <td>1</td>\n",
              "      <td>1</td>\n",
              "      <td>0</td>\n",
              "    </tr>\n",
              "    <tr>\n",
              "      <th>4</th>\n",
              "      <td>1790</td>\n",
              "      <td>-8.069.077</td>\n",
              "      <td>-34.900.505</td>\n",
              "      <td>123.29</td>\n",
              "      <td>114.34</td>\n",
              "      <td>121.79</td>\n",
              "      <td>126.09</td>\n",
              "      <td>130.09</td>\n",
              "      <td>109.04</td>\n",
              "      <td>1</td>\n",
              "      <td>1</td>\n",
              "      <td>2</td>\n",
              "      <td>1</td>\n",
              "      <td>2</td>\n",
              "      <td>1</td>\n",
              "    </tr>\n",
              "  </tbody>\n",
              "</table>\n",
              "</div>"
            ],
            "text/plain": [
              "   pontoId         lat          lon  ... taBTS4 taBTS5 taBTS6\n",
              "0     2818  -8.062.787  -34.897.289  ...      2      1      0\n",
              "1      212  -8.076.408  -34.899.723  ...      1      2      2\n",
              "2      500  -8.074.771  -34.890.739  ...      0      1      2\n",
              "3     2094    -806.803  -34.896.683  ...      1      1      0\n",
              "4     1790  -8.069.077  -34.900.505  ...      1      2      1\n",
              "\n",
              "[5 rows x 15 columns]"
            ]
          },
          "metadata": {},
          "execution_count": 29
        }
      ]
    },
    {
      "cell_type": "markdown",
      "metadata": {
        "id": "uZ5sfbtHjNjM"
      },
      "source": [
        "### **GET DISTANCE**"
      ]
    },
    {
      "cell_type": "code",
      "metadata": {
        "id": "uG-2qI2GBuBJ"
      },
      "source": [
        "\n",
        "def correction_factor_cost(frequency,altura_antena):\n",
        "\n",
        "    return ((1.1*(np.log10(frequency))-0.7)*altura_antena - (1.56*(np.log10(frequency))-0.8))\n",
        "\n",
        "def cost231_model(frequency, altura_base, altura_antena, distancia):\n",
        "    med_loss = (46.3 + 33.9*np.log10(frequency) - 13.82*np.log10(altura_base) \\\n",
        "                - correction_factor_cost(frequency,altura_antena)  + \\\n",
        "                (44.9 - 6.55*np.log10(altura_base))*np.log10(distancia))\n",
        "    return med_loss\n",
        "def cost231_model_distance(frequency, altura_base, altura_antena, med_loss):\n",
        "   a = 46.3 + 33.9*np.log10(frequency) - 13.82*np.log10(altura_base)\n",
        "   b = correction_factor_cost(frequency,altura_antena)\n",
        "   c = (44.9 - 6.55*np.log10(altura_base))\n",
        "   return pow(10.0,(med_loss-a+b)/c)*1000\n",
        "def freespace_model_distance(frequency, altura_base, altura_antena, med_loss):\n",
        "    a = 32.44 + 20*np.log10(frequency)\n",
        "    b = med_loss\n",
        "    return pow(10.0,(b-a)/20.0)*1000 "
      ],
      "execution_count": 72,
      "outputs": []
    },
    {
      "cell_type": "code",
      "metadata": {
        "id": "XTekjp-ym9Vx"
      },
      "source": [
        "def formated(n):\n",
        "  if isinstance(n,float):\n",
        "    return n\n",
        "  n = n.replace('.',',',1).replace('.','').replace(',','.')\n",
        "  return float(n)\n",
        "\n",
        "def formated_lat(s):\n",
        "  if isinstance(s,float):\n",
        "    return s\n",
        "  n = 2\n",
        "  s = s.replace('.','').replace(',','')\n",
        "  sz = len(s)\n",
        "  s = float(s)/math.pow(10,sz-n)\n",
        "  return s\n",
        "def formated_long(s):\n",
        "  if isinstance(s,float):\n",
        "    return s\n",
        "  n = 3\n",
        "  s = s.replace('.','').replace(',','')\n",
        "  sz = len(s)\n",
        "  s = float(s)/math.pow(10,sz-n)\n",
        "  return s"
      ],
      "execution_count": 73,
      "outputs": []
    },
    {
      "cell_type": "markdown",
      "metadata": {
        "id": "T0P9PUi0sGji"
      },
      "source": [
        " GET MATRIX B"
      ]
    },
    {
      "cell_type": "code",
      "metadata": {
        "id": "Q4ndPBsWsPu_"
      },
      "source": [
        "# 2(x0-xn-1) 2(y0-yn-1)\n",
        "# ...      ...\n",
        "# 2(xn-2 - xn-1) 2(yn-2 - yn-1)\n",
        "\n",
        "def get_B(vtx, vty, n):\n",
        "  B = []\n",
        "  for i in range(n-1):\n",
        "    B.append([2*(vtx[i]-vtx[n-1]),2*(vty[i]-vty[n-1])])\n",
        "  return B\n"
      ],
      "execution_count": 74,
      "outputs": []
    },
    {
      "cell_type": "markdown",
      "metadata": {
        "id": "QiXWWaXOxWgJ"
      },
      "source": [
        " GET MATRIX C"
      ]
    },
    {
      "cell_type": "code",
      "metadata": {
        "id": "QpnXIeW2xVih"
      },
      "source": [
        "# x1^2 - xn^2 + y1^2 - yn^2 + dn^2 -d1^2\n",
        "# ...    \n",
        "# xn-1^2 - xn^2 + yn-1^2 - yn^2 + dn^2 -dn-1^2\n",
        "\n",
        "def get_C(vtx, vty, d , n):\n",
        "  C = []\n",
        "  for i in range(n-1):\n",
        "    C.append([vtx[i]*vtx[i] - vtx[n-1]*vtx[n-1] + vty[i]*vty[i] - vty[n-1]*vty[n-1] + d[n-1]*d[n-1] - d[i]*d[i]])\n",
        "  return C\n"
      ],
      "execution_count": 75,
      "outputs": []
    },
    {
      "cell_type": "code",
      "metadata": {
        "colab": {
          "base_uri": "https://localhost:8080/"
        },
        "id": "3V2VORZt9MDO",
        "outputId": "3a42799e-de71-4873-8dc6-ab96e42b6d66"
      },
      "source": [
        "!pip install pyproj\n"
      ],
      "execution_count": 76,
      "outputs": [
        {
          "output_type": "stream",
          "text": [
            "Requirement already satisfied: pyproj in /usr/local/lib/python3.7/dist-packages (3.1.0)\n",
            "Requirement already satisfied: certifi in /usr/local/lib/python3.7/dist-packages (from pyproj) (2021.5.30)\n"
          ],
          "name": "stdout"
        }
      ]
    },
    {
      "cell_type": "code",
      "metadata": {
        "colab": {
          "base_uri": "https://localhost:8080/",
          "height": 234
        },
        "id": "zXSpt0D-9q0O",
        "outputId": "26a0d0ae-500e-4b3d-be21-613378b42cc1"
      },
      "source": [
        "from pyproj import Proj\n",
        "\n",
        "ipt['lat'] = ipt['lat'].apply(formated_lat)\n",
        "ipt['lon'] = ipt['lon'].apply(formated_long)\n",
        "\n",
        "p = Proj(proj='utm',zone=10,ellps='WGS84', preserve_units=False)\n",
        "ipt[\"x\"],ipt[\"y\"] = p(ipt['lon'],ipt['lat'])\n",
        "ipt[[\"x\",\"y\"]]"
      ],
      "execution_count": 77,
      "outputs": [
        {
          "output_type": "execute_result",
          "data": {
            "text/html": [
              "<div>\n",
              "<style scoped>\n",
              "    .dataframe tbody tr th:only-of-type {\n",
              "        vertical-align: middle;\n",
              "    }\n",
              "\n",
              "    .dataframe tbody tr th {\n",
              "        vertical-align: top;\n",
              "    }\n",
              "\n",
              "    .dataframe thead th {\n",
              "        text-align: right;\n",
              "    }\n",
              "</style>\n",
              "<table border=\"1\" class=\"dataframe\">\n",
              "  <thead>\n",
              "    <tr style=\"text-align: right;\">\n",
              "      <th></th>\n",
              "      <th>x</th>\n",
              "      <th>y</th>\n",
              "    </tr>\n",
              "  </thead>\n",
              "  <tbody>\n",
              "    <tr>\n",
              "      <th>0</th>\n",
              "      <td>1.683501e+07</td>\n",
              "      <td>-8.707782e+06</td>\n",
              "    </tr>\n",
              "    <tr>\n",
              "      <th>1</th>\n",
              "      <td>1.682972e+07</td>\n",
              "      <td>-8.707463e+06</td>\n",
              "    </tr>\n",
              "    <tr>\n",
              "      <th>2</th>\n",
              "      <td>1.682776e+07</td>\n",
              "      <td>-8.698601e+06</td>\n",
              "    </tr>\n",
              "    <tr>\n",
              "      <th>3</th>\n",
              "      <td>1.682972e+07</td>\n",
              "      <td>-8.707463e+06</td>\n",
              "    </tr>\n",
              "    <tr>\n",
              "      <th>4</th>\n",
              "      <td>1.683700e+07</td>\n",
              "      <td>-8.709674e+06</td>\n",
              "    </tr>\n",
              "    <tr>\n",
              "      <th>5</th>\n",
              "      <td>1.683731e+07</td>\n",
              "      <td>-8.706071e+06</td>\n",
              "    </tr>\n",
              "  </tbody>\n",
              "</table>\n",
              "</div>"
            ],
            "text/plain": [
              "              x             y\n",
              "0  1.683501e+07 -8.707782e+06\n",
              "1  1.682972e+07 -8.707463e+06\n",
              "2  1.682776e+07 -8.698601e+06\n",
              "3  1.682972e+07 -8.707463e+06\n",
              "4  1.683700e+07 -8.709674e+06\n",
              "5  1.683731e+07 -8.706071e+06"
            ]
          },
          "metadata": {},
          "execution_count": 77
        }
      ]
    },
    {
      "cell_type": "code",
      "metadata": {
        "colab": {
          "base_uri": "https://localhost:8080/",
          "height": 234
        },
        "id": "fLaU3x0H-sKk",
        "outputId": "3b78160a-d8ca-42e2-9a69-f8d66ef4719c"
      },
      "source": [
        "ipt[[\"lon\",\"lat\"]]"
      ],
      "execution_count": 78,
      "outputs": [
        {
          "output_type": "execute_result",
          "data": {
            "text/html": [
              "<div>\n",
              "<style scoped>\n",
              "    .dataframe tbody tr th:only-of-type {\n",
              "        vertical-align: middle;\n",
              "    }\n",
              "\n",
              "    .dataframe tbody tr th {\n",
              "        vertical-align: top;\n",
              "    }\n",
              "\n",
              "    .dataframe thead th {\n",
              "        text-align: right;\n",
              "    }\n",
              "</style>\n",
              "<table border=\"1\" class=\"dataframe\">\n",
              "  <thead>\n",
              "    <tr style=\"text-align: right;\">\n",
              "      <th></th>\n",
              "      <th>lon</th>\n",
              "      <th>lat</th>\n",
              "    </tr>\n",
              "  </thead>\n",
              "  <tbody>\n",
              "    <tr>\n",
              "      <th>0</th>\n",
              "      <td>-34.892722</td>\n",
              "      <td>-8.068361</td>\n",
              "    </tr>\n",
              "    <tr>\n",
              "      <th>1</th>\n",
              "      <td>-34.894611</td>\n",
              "      <td>-8.075917</td>\n",
              "    </tr>\n",
              "    <tr>\n",
              "      <th>2</th>\n",
              "      <td>-34.908000</td>\n",
              "      <td>-8.076361</td>\n",
              "    </tr>\n",
              "    <tr>\n",
              "      <th>3</th>\n",
              "      <td>-34.894611</td>\n",
              "      <td>-8.075917</td>\n",
              "    </tr>\n",
              "    <tr>\n",
              "      <th>4</th>\n",
              "      <td>-34.889444</td>\n",
              "      <td>-8.066000</td>\n",
              "    </tr>\n",
              "    <tr>\n",
              "      <th>5</th>\n",
              "      <td>-34.894583</td>\n",
              "      <td>-8.064583</td>\n",
              "    </tr>\n",
              "  </tbody>\n",
              "</table>\n",
              "</div>"
            ],
            "text/plain": [
              "         lon       lat\n",
              "0 -34.892722 -8.068361\n",
              "1 -34.894611 -8.075917\n",
              "2 -34.908000 -8.076361\n",
              "3 -34.894611 -8.075917\n",
              "4 -34.889444 -8.066000\n",
              "5 -34.894583 -8.064583"
            ]
          },
          "metadata": {},
          "execution_count": 78
        }
      ]
    },
    {
      "cell_type": "code",
      "metadata": {
        "id": "O9sY1eakjT6_"
      },
      "source": [
        "c = 300000000.0 #vel light\n",
        "f = 1800000000.0 #gsm1800\n",
        "lbd =  c/f\n",
        "vt_id = []\n",
        "vt_lo_mdt1 = []\n",
        "vt_la_mdt1 = []\n",
        "vt_lo_mdt2 = []\n",
        "vt_la_mdt2 = []\n",
        "for i in range(len(train)):\n",
        "  lp1 = formated(train[\"pathBTS1\"][i])\n",
        "  lp2 = formated(train[\"pathBTS2\"][i])\n",
        "  lp3 = formated(train[\"pathBTS3\"][i])\n",
        "  lp4 = formated(train[\"pathBTS4\"][i])\n",
        "  lp5 = formated(train[\"pathBTS5\"][i])\n",
        "  lp6 = formated(train[\"pathBTS6\"][i])\n",
        "  #if train[\"pontoId\"][i] == 500:\n",
        "    #print(lp1,lp2,lp3,lp4,lp5,lp6)\n",
        "  distance_mtd1 = []\n",
        "  distance_mtd2 = []\n",
        "  distance_mtd1.append(cost231_model_distance(frequency=1800, altura_base=100.0, altura_antena=2, med_loss=lp1))\n",
        "  distance_mtd1.append(cost231_model_distance(frequency=1800, altura_base=100.0, altura_antena=2, med_loss=lp2))\n",
        "  distance_mtd1.append(cost231_model_distance(frequency=1800, altura_base=100.0, altura_antena=2, med_loss=lp3))\n",
        "  distance_mtd1.append(cost231_model_distance(frequency=1800, altura_base=100.0, altura_antena=2, med_loss=lp4))\n",
        "  distance_mtd1.append(cost231_model_distance(frequency=1800, altura_base=100.0, altura_antena=2, med_loss=lp5))\n",
        "  distance_mtd1.append(cost231_model_distance(frequency=1800, altura_base=100.0, altura_antena=2, med_loss=lp6))\n",
        "  distance_mtd2.append(freespace_model_distance(frequency=1800, altura_base=100.0, altura_antena=2, med_loss=lp1))\n",
        "  distance_mtd2.append(freespace_model_distance(frequency=1800, altura_base=100.0, altura_antena=2, med_loss=lp2))\n",
        "  distance_mtd2.append(freespace_model_distance(frequency=1800, altura_base=100.0, altura_antena=2, med_loss=lp3))\n",
        "  distance_mtd2.append(freespace_model_distance(frequency=1800, altura_base=100.0, altura_antena=2, med_loss=lp4))\n",
        "  distance_mtd2.append(freespace_model_distance(frequency=1800, altura_base=100.0, altura_antena=2, med_loss=lp5))\n",
        "  distance_mtd2.append(freespace_model_distance(frequency=1800, altura_base=100.0, altura_antena=2, med_loss=lp6))\n",
        "  B = np.matrix(get_B(ipt[\"x\"],ipt[\"y\"],6))\n",
        "  C = np.matrix(get_C(ipt[\"x\"],ipt[\"y\"],distance_mtd1,6))\n",
        "  A = inv(B.T * B) * B.T * C\n",
        "  lo, la = p(A[0][0],A[1][0], inverse=True)\n",
        "  id = train[\"pontoId\"][i]\n",
        "  #print(lo,la,id)\n",
        "  vt_id.append(id)\n",
        "  vt_lo_mdt1.append(lo[0][0])\n",
        "  vt_la_mdt1.append(la[0][0])\n",
        "\n",
        "  C = np.matrix(get_C(ipt[\"x\"],ipt[\"y\"],distance_mtd2,6))\n",
        "  A = inv(B.T * B) * B.T * C\n",
        "  lo, la = p(A[0][0],A[1][0], inverse=True)\n",
        "  vt_lo_mdt2.append(lo[0][0])\n",
        "  vt_la_mdt2.append(la[0][0])"
      ],
      "execution_count": 80,
      "outputs": []
    },
    {
      "cell_type": "code",
      "metadata": {
        "id": "Jop4rKbmK4Rx"
      },
      "source": [
        "##create df\n",
        "pred_mtd1 = {'pontoId': vt_id, 'lat_pred_mtd1': vt_la_mdt1, 'lon_pred_mtd1': vt_lo_mdt1}\n",
        "pred_mtd2 = {'pontoId': vt_id, 'lat_pred_mtd2': vt_la_mdt2, 'lon_pred_mtd2': vt_lo_mdt2}\n",
        "\n",
        "pred_mtd1 = pd.DataFrame(data=pred_mtd1)\n",
        "pred_mtd2 = pd.DataFrame(data=pred_mtd2)\n",
        "\n",
        "##submit\n",
        "pred = {'pontoId': vt_id, 'lat_pred': vt_la_mdt1, 'lon_pred': vt_lo_mdt1}\n",
        "pred = pd.DataFrame(data=pred)\n",
        "pred.to_csv('submit.csv')"
      ],
      "execution_count": 102,
      "outputs": []
    },
    {
      "cell_type": "code",
      "metadata": {
        "id": "UuGlUQJSMtK_"
      },
      "source": [
        "\n",
        "def merge_on_pontoId(df_1, df_2):\n",
        "    \"\"\"\n",
        "    Faz um merge de dois DataFrame usando o pontoId como referência\n",
        "    \"\"\"\n",
        "    return pd.merge(df_1, df_2, how='inner', on=['pontoId'])\n",
        "\n",
        "\n",
        "\n",
        "\n",
        "def get_dist(lat1, long1, lat2, long2):\n",
        "  coords_1 = (lat1, long1)\n",
        "  coords_2 = (lat2, long2)\n",
        "\n",
        "  return (geopy.distance.VincentyDistance(coords_1, coords_2).m)\n"
      ],
      "execution_count": 98,
      "outputs": []
    },
    {
      "cell_type": "code",
      "metadata": {
        "id": "LSJiEqT7NBRW",
        "colab": {
          "base_uri": "https://localhost:8080/",
          "height": 437
        },
        "outputId": "28b4b880-45b0-4a8f-f907-0776c7940b5a"
      },
      "source": [
        "train[\"lon\"] = train[\"lon\"].apply(formated)\n",
        "train[\"lat\"] = train[\"lat\"].apply(formated)\n",
        "\n",
        "merge = merge_on_pontoId(train, pred_mtd1)\n",
        "merge = merge_on_pontoId(merge, pred_mtd2)\n",
        "\n",
        "import math\n",
        "test = math.inf\n",
        "\n",
        "merge = merge[merge['lon_pred_mtd1'] != math.inf]\n",
        "merge = merge[merge['lon_pred_mtd2'] != math.inf]\n",
        "merge = merge[90 >= merge['lat']]\n",
        "merge = merge[ merge['lat'] >= -90]\n",
        "merge = merge[90 >= merge['lon']]\n",
        "merge = merge[ merge['lon'] >= -90]\n",
        "\n",
        "merge\n"
      ],
      "execution_count": 86,
      "outputs": [
        {
          "output_type": "execute_result",
          "data": {
            "text/html": [
              "<div>\n",
              "<style scoped>\n",
              "    .dataframe tbody tr th:only-of-type {\n",
              "        vertical-align: middle;\n",
              "    }\n",
              "\n",
              "    .dataframe tbody tr th {\n",
              "        vertical-align: top;\n",
              "    }\n",
              "\n",
              "    .dataframe thead th {\n",
              "        text-align: right;\n",
              "    }\n",
              "</style>\n",
              "<table border=\"1\" class=\"dataframe\">\n",
              "  <thead>\n",
              "    <tr style=\"text-align: right;\">\n",
              "      <th></th>\n",
              "      <th>pontoId</th>\n",
              "      <th>lat</th>\n",
              "      <th>lon</th>\n",
              "      <th>pathBTS1</th>\n",
              "      <th>pathBTS2</th>\n",
              "      <th>pathBTS3</th>\n",
              "      <th>pathBTS4</th>\n",
              "      <th>pathBTS5</th>\n",
              "      <th>pathBTS6</th>\n",
              "      <th>taBTS1</th>\n",
              "      <th>taBTS2</th>\n",
              "      <th>taBTS3</th>\n",
              "      <th>taBTS4</th>\n",
              "      <th>taBTS5</th>\n",
              "      <th>taBTS6</th>\n",
              "      <th>lat_pred_mtd1</th>\n",
              "      <th>lon_pred_mtd1</th>\n",
              "      <th>lat_pred_mtd2</th>\n",
              "      <th>lon_pred_mtd2</th>\n",
              "    </tr>\n",
              "  </thead>\n",
              "  <tbody>\n",
              "    <tr>\n",
              "      <th>0</th>\n",
              "      <td>2818</td>\n",
              "      <td>-8.062787</td>\n",
              "      <td>-34.897289</td>\n",
              "      <td>131.79</td>\n",
              "      <td>105.09</td>\n",
              "      <td>125.656.666.666.667</td>\n",
              "      <td>105.756.666.666.667</td>\n",
              "      <td>128.49</td>\n",
              "      <td>115.99</td>\n",
              "      <td>1</td>\n",
              "      <td>2</td>\n",
              "      <td>3</td>\n",
              "      <td>2</td>\n",
              "      <td>1</td>\n",
              "      <td>0</td>\n",
              "      <td>-8.072074</td>\n",
              "      <td>-34.900363</td>\n",
              "      <td>-8.006722</td>\n",
              "      <td>-34.961288</td>\n",
              "    </tr>\n",
              "    <tr>\n",
              "      <th>1</th>\n",
              "      <td>212</td>\n",
              "      <td>-8.076408</td>\n",
              "      <td>-34.899723</td>\n",
              "      <td>120.59</td>\n",
              "      <td>112.123.333.333.333</td>\n",
              "      <td>124.856.666.666.667</td>\n",
              "      <td>132.023.333.333.333</td>\n",
              "      <td>135.523.333.333.333</td>\n",
              "      <td>141.19</td>\n",
              "      <td>2</td>\n",
              "      <td>1</td>\n",
              "      <td>1</td>\n",
              "      <td>1</td>\n",
              "      <td>2</td>\n",
              "      <td>2</td>\n",
              "      <td>-8.072845</td>\n",
              "      <td>-34.900110</td>\n",
              "      <td>-10.906798</td>\n",
              "      <td>-33.714345</td>\n",
              "    </tr>\n",
              "    <tr>\n",
              "      <th>4</th>\n",
              "      <td>1790</td>\n",
              "      <td>-8.069077</td>\n",
              "      <td>-34.900505</td>\n",
              "      <td>123.29</td>\n",
              "      <td>114.34</td>\n",
              "      <td>121.79</td>\n",
              "      <td>126.09</td>\n",
              "      <td>130.09</td>\n",
              "      <td>109.04</td>\n",
              "      <td>1</td>\n",
              "      <td>1</td>\n",
              "      <td>2</td>\n",
              "      <td>1</td>\n",
              "      <td>2</td>\n",
              "      <td>1</td>\n",
              "      <td>-8.072046</td>\n",
              "      <td>-34.900396</td>\n",
              "      <td>-8.004242</td>\n",
              "      <td>-34.980051</td>\n",
              "    </tr>\n",
              "    <tr>\n",
              "      <th>6</th>\n",
              "      <td>2337</td>\n",
              "      <td>-8.066168</td>\n",
              "      <td>-34.896164</td>\n",
              "      <td>130.19</td>\n",
              "      <td>111.64</td>\n",
              "      <td>123.89</td>\n",
              "      <td>121.59</td>\n",
              "      <td>115.79</td>\n",
              "      <td>105.29</td>\n",
              "      <td>0</td>\n",
              "      <td>1</td>\n",
              "      <td>3</td>\n",
              "      <td>1</td>\n",
              "      <td>1</td>\n",
              "      <td>0</td>\n",
              "      <td>-8.072063</td>\n",
              "      <td>-34.900348</td>\n",
              "      <td>-8.024959</td>\n",
              "      <td>-34.922647</td>\n",
              "    </tr>\n",
              "    <tr>\n",
              "      <th>8</th>\n",
              "      <td>581</td>\n",
              "      <td>-8.074279</td>\n",
              "      <td>-34.890247</td>\n",
              "      <td>98.04</td>\n",
              "      <td>136.415</td>\n",
              "      <td>120.89</td>\n",
              "      <td>118.49</td>\n",
              "      <td>116.965</td>\n",
              "      <td>134.415</td>\n",
              "      <td>1</td>\n",
              "      <td>0</td>\n",
              "      <td>3</td>\n",
              "      <td>0</td>\n",
              "      <td>1</td>\n",
              "      <td>2</td>\n",
              "      <td>-8.072283</td>\n",
              "      <td>-34.900286</td>\n",
              "      <td>-8.357015</td>\n",
              "      <td>-34.852584</td>\n",
              "    </tr>\n",
              "    <tr>\n",
              "      <th>...</th>\n",
              "      <td>...</td>\n",
              "      <td>...</td>\n",
              "      <td>...</td>\n",
              "      <td>...</td>\n",
              "      <td>...</td>\n",
              "      <td>...</td>\n",
              "      <td>...</td>\n",
              "      <td>...</td>\n",
              "      <td>...</td>\n",
              "      <td>...</td>\n",
              "      <td>...</td>\n",
              "      <td>...</td>\n",
              "      <td>...</td>\n",
              "      <td>...</td>\n",
              "      <td>...</td>\n",
              "      <td>...</td>\n",
              "      <td>...</td>\n",
              "      <td>...</td>\n",
              "      <td>...</td>\n",
              "    </tr>\n",
              "    <tr>\n",
              "      <th>1491</th>\n",
              "      <td>1300</td>\n",
              "      <td>-8.070552</td>\n",
              "      <td>-34.900898</td>\n",
              "      <td>126.723.333.333.333</td>\n",
              "      <td>125.156.666.666.667</td>\n",
              "      <td>119.923.333.333.333</td>\n",
              "      <td>121.656.666.666.667</td>\n",
              "      <td>134.79</td>\n",
              "      <td>127.756.666.666.667</td>\n",
              "      <td>1</td>\n",
              "      <td>1</td>\n",
              "      <td>1</td>\n",
              "      <td>1</td>\n",
              "      <td>2</td>\n",
              "      <td>1</td>\n",
              "      <td>-8.072127</td>\n",
              "      <td>-34.900421</td>\n",
              "      <td>-8.058735</td>\n",
              "      <td>-35.080615</td>\n",
              "    </tr>\n",
              "    <tr>\n",
              "      <th>1493</th>\n",
              "      <td>1454</td>\n",
              "      <td>-8.069956</td>\n",
              "      <td>-34.890182</td>\n",
              "      <td>102.79</td>\n",
              "      <td>138.24</td>\n",
              "      <td>114.69</td>\n",
              "      <td>119.29</td>\n",
              "      <td>105.84</td>\n",
              "      <td>127.59</td>\n",
              "      <td>0</td>\n",
              "      <td>1</td>\n",
              "      <td>3</td>\n",
              "      <td>1</td>\n",
              "      <td>0</td>\n",
              "      <td>1</td>\n",
              "      <td>-8.072037</td>\n",
              "      <td>-34.900410</td>\n",
              "      <td>-7.731270</td>\n",
              "      <td>-35.156713</td>\n",
              "    </tr>\n",
              "    <tr>\n",
              "      <th>1494</th>\n",
              "      <td>2234</td>\n",
              "      <td>-8.066894</td>\n",
              "      <td>-34.894615</td>\n",
              "      <td>122.89</td>\n",
              "      <td>124.09</td>\n",
              "      <td>126.54</td>\n",
              "      <td>124.09</td>\n",
              "      <td>120.09</td>\n",
              "      <td>97.44</td>\n",
              "      <td>0</td>\n",
              "      <td>1</td>\n",
              "      <td>3</td>\n",
              "      <td>1</td>\n",
              "      <td>1</td>\n",
              "      <td>0</td>\n",
              "      <td>-8.072045</td>\n",
              "      <td>-34.900335</td>\n",
              "      <td>-8.021100</td>\n",
              "      <td>-34.888688</td>\n",
              "    </tr>\n",
              "    <tr>\n",
              "      <th>1495</th>\n",
              "      <td>1777</td>\n",
              "      <td>-8.069118</td>\n",
              "      <td>-34.895737</td>\n",
              "      <td>105.723.333.333.333</td>\n",
              "      <td>115.956.666.666.667</td>\n",
              "      <td>117.056.666.666.667</td>\n",
              "      <td>105.256.666.666.667</td>\n",
              "      <td>119.89</td>\n",
              "      <td>116.39</td>\n",
              "      <td>0</td>\n",
              "      <td>1</td>\n",
              "      <td>2</td>\n",
              "      <td>1</td>\n",
              "      <td>1</td>\n",
              "      <td>0</td>\n",
              "      <td>-8.072120</td>\n",
              "      <td>-34.900330</td>\n",
              "      <td>-8.074646</td>\n",
              "      <td>-34.899561</td>\n",
              "    </tr>\n",
              "    <tr>\n",
              "      <th>1496</th>\n",
              "      <td>2245</td>\n",
              "      <td>-8.066825</td>\n",
              "      <td>-34.894756</td>\n",
              "      <td>123.315</td>\n",
              "      <td>125.115</td>\n",
              "      <td>127.315</td>\n",
              "      <td>126.365</td>\n",
              "      <td>123.74</td>\n",
              "      <td>101.39</td>\n",
              "      <td>0</td>\n",
              "      <td>1</td>\n",
              "      <td>3</td>\n",
              "      <td>1</td>\n",
              "      <td>1</td>\n",
              "      <td>0</td>\n",
              "      <td>-8.072027</td>\n",
              "      <td>-34.900347</td>\n",
              "      <td>-7.998563</td>\n",
              "      <td>-34.900171</td>\n",
              "    </tr>\n",
              "  </tbody>\n",
              "</table>\n",
              "<p>1106 rows × 19 columns</p>\n",
              "</div>"
            ],
            "text/plain": [
              "      pontoId       lat        lon  ... lon_pred_mtd1 lat_pred_mtd2 lon_pred_mtd2\n",
              "0        2818 -8.062787 -34.897289  ...    -34.900363     -8.006722    -34.961288\n",
              "1         212 -8.076408 -34.899723  ...    -34.900110    -10.906798    -33.714345\n",
              "4        1790 -8.069077 -34.900505  ...    -34.900396     -8.004242    -34.980051\n",
              "6        2337 -8.066168 -34.896164  ...    -34.900348     -8.024959    -34.922647\n",
              "8         581 -8.074279 -34.890247  ...    -34.900286     -8.357015    -34.852584\n",
              "...       ...       ...        ...  ...           ...           ...           ...\n",
              "1491     1300 -8.070552 -34.900898  ...    -34.900421     -8.058735    -35.080615\n",
              "1493     1454 -8.069956 -34.890182  ...    -34.900410     -7.731270    -35.156713\n",
              "1494     2234 -8.066894 -34.894615  ...    -34.900335     -8.021100    -34.888688\n",
              "1495     1777 -8.069118 -34.895737  ...    -34.900330     -8.074646    -34.899561\n",
              "1496     2245 -8.066825 -34.894756  ...    -34.900347     -7.998563    -34.900171\n",
              "\n",
              "[1106 rows x 19 columns]"
            ]
          },
          "metadata": {},
          "execution_count": 86
        }
      ]
    },
    {
      "cell_type": "code",
      "metadata": {
        "colab": {
          "base_uri": "https://localhost:8080/",
          "height": 599
        },
        "id": "sGAn-VHvOnAZ",
        "outputId": "5f480f1e-8a99-4ea1-fd9a-22a44cf8877c"
      },
      "source": [
        "fig, ax = plt.subplots()\n",
        "ax.scatter(merge['lon_pred_mtd1'], merge['lat_pred_mtd1'], s = 20, color = 'green', alpha = 1)\n",
        "ax.scatter(merge['lon'], merge['lat'], s = 14, color = 'blue', alpha = 1)\n",
        "ax.scatter(ipt['lon'], ipt['lat'], s = 50, color = 'red', alpha = 1)\n",
        "ax.set(xlabel = 'lon', ylabel = 'lat')\n",
        "plt.axis([-34.881,-34.91,-8.080,-8.060])\n",
        "plt.gcf().set_size_inches((12,12))\n",
        "plt.title('Triângulação com COST 231 Model')\n",
        "plt.show()"
      ],
      "execution_count": 100,
      "outputs": [
        {
          "output_type": "display_data",
          "data": {
            "image/png": "[encoded data removed]",
            "text/plain": [
              "<Figure size 864x864 with 1 Axes>"
            ]
          },
          "metadata": {
            "needs_background": "light"
          }
        }
      ]
    },
    {
      "cell_type": "code",
      "metadata": {
        "colab": {
          "base_uri": "https://localhost:8080/",
          "height": 599
        },
        "id": "64Bz-AuOSx_0",
        "outputId": "d21d44ae-59ae-46dd-cf1a-f4422f3cacbc"
      },
      "source": [
        "fig, ax = plt.subplots()\n",
        "ax.scatter(merge['lon_pred_mtd2'], merge['lat_pred_mtd2'], s = 20, color = 'green', alpha = 1)\n",
        "ax.scatter(merge['lon'], merge['lat'], s = 14, color = 'blue', alpha = 1)\n",
        "ax.scatter(ipt['lon'], ipt['lat'], s = 50, color = 'red', alpha = 1)\n",
        "ax.set(xlabel = 'lon', ylabel = 'lat')\n",
        "plt.axis([-34.881,-34.91,-8.080,-8.060])\n",
        "plt.gcf().set_size_inches((12,12))\n",
        "plt.title('Triângulação com Free Space Model')\n",
        "plt.show()"
      ],
      "execution_count": 89,
      "outputs": [
        {
          "output_type": "display_data",
          "data": {
            "image/png": "[encoded data removed]",
            "text/plain": [
              "<Figure size 864x864 with 1 Axes>"
            ]
          },
          "metadata": {
            "needs_background": "light"
          }
        }
      ]
    },
    {
      "cell_type": "code",
      "metadata": {
        "id": "nKOZDa_5O31z"
      },
      "source": [
        "distances_mtd1 = []\n",
        "distances_mtd2 = []\n",
        "for idx, point in merge.iterrows():\n",
        "  d1 = get_dist(point['lat'], point['lon'], point['lat_pred_mtd1'], point['lon_pred_mtd1'])\n",
        "  d2 = get_dist(point['lat'], point['lon'], point['lat_pred_mtd2'], point['lon_pred_mtd2'])\n",
        "  distances_mtd1.append(d1)\n",
        "  distances_mtd2.append(d2)"
      ],
      "execution_count": 90,
      "outputs": []
    },
    {
      "cell_type": "code",
      "metadata": {
        "id": "IQ_XjzlnSNJV"
      },
      "source": [
        "distances_mtd1 = np.array(distances_mtd1)\n",
        "distances_mtd2 = np.array(distances_mtd2)"
      ],
      "execution_count": 91,
      "outputs": []
    },
    {
      "cell_type": "markdown",
      "metadata": {
        "id": "eYIgDBW2aQrm"
      },
      "source": [
        "Histograma"
      ]
    },
    {
      "cell_type": "code",
      "metadata": {
        "colab": {
          "base_uri": "https://localhost:8080/",
          "height": 295
        },
        "id": "gSNx_wcMUlwh",
        "outputId": "64a879e3-26e7-468f-ee1a-38ad43abae94"
      },
      "source": [
        "plt.title(\"Triângulação com COST 231 Model\")\n",
        "histogram = plt.hist(distances_mtd1.astype(int), bins='auto')\n",
        "plt.xlabel('m')\n",
        "plt.ylabel('A')\n",
        "plt.show()"
      ],
      "execution_count": 92,
      "outputs": [
        {
          "output_type": "display_data",
          "data": {
            "image/png": "[encoded data removed]",
            "text/plain": [
              "<Figure size 432x288 with 1 Axes>"
            ]
          },
          "metadata": {
            "needs_background": "light"
          }
        }
      ]
    },
    {
      "cell_type": "code",
      "metadata": {
        "colab": {
          "base_uri": "https://localhost:8080/",
          "height": 295
        },
        "id": "8kN4Z1MMTYPw",
        "outputId": "6e1d8b5e-823c-4d0d-b179-f0a71321e742"
      },
      "source": [
        "plt.title(\"Triângulação com Free Space Model\")\n",
        "histogram = plt.hist(distances_mtd2.astype(int), bins='auto')\n",
        "plt.xlabel('m')\n",
        "plt.ylabel('A')\n",
        "plt.show()"
      ],
      "execution_count": 93,
      "outputs": [
        {
          "output_type": "display_data",
          "data": {
            "image/png": "[encoded data removed]",
            "text/plain": [
              "<Figure size 432x288 with 1 Axes>"
            ]
          },
          "metadata": {
            "needs_background": "light"
          }
        }
      ]
    },
    {
      "cell_type": "markdown",
      "metadata": {
        "id": "fdLFOaqDZdS4"
      },
      "source": [
        "Box Plot"
      ]
    },
    {
      "cell_type": "code",
      "metadata": {
        "colab": {
          "base_uri": "https://localhost:8080/",
          "height": 293
        },
        "id": "JT_lvbEgW2Pc",
        "outputId": "45e5c620-7345-476a-f106-0e666274d654"
      },
      "source": [
        "pd.DataFrame(data=distances_mtd1).boxplot()"
      ],
      "execution_count": 94,
      "outputs": [
        {
          "output_type": "execute_result",
          "data": {
            "text/plain": [
              "<matplotlib.axes._subplots.AxesSubplot at 0x7f8f87d97dd0>"
            ]
          },
          "metadata": {},
          "execution_count": 94
        },
        {
          "output_type": "display_data",
          "data": {
            "image/png": "[encoded data removed]",
            "text/plain": [
              "<Figure size 432x288 with 1 Axes>"
            ]
          },
          "metadata": {
            "needs_background": "light"
          }
        }
      ]
    },
    {
      "cell_type": "code",
      "metadata": {
        "colab": {
          "base_uri": "https://localhost:8080/",
          "height": 293
        },
        "id": "p2mAzGGfTjzL",
        "outputId": "692b3c61-ac01-4d43-f34b-052556d2e194"
      },
      "source": [
        "pd.DataFrame(data=distances_mtd2).boxplot()"
      ],
      "execution_count": 95,
      "outputs": [
        {
          "output_type": "execute_result",
          "data": {
            "text/plain": [
              "<matplotlib.axes._subplots.AxesSubplot at 0x7f8f8a5f1ed0>"
            ]
          },
          "metadata": {},
          "execution_count": 95
        },
        {
          "output_type": "display_data",
          "data": {
            "image/png": "[encoded data removed]",
            "text/plain": [
              "<Figure size 432x288 with 1 Axes>"
            ]
          },
          "metadata": {
            "needs_background": "light"
          }
        }
      ]
    },
    {
      "cell_type": "markdown",
      "metadata": {
        "id": "AWmUNxpyaGBa"
      },
      "source": [
        "Error máx, mín, médio e desvio"
      ]
    },
    {
      "cell_type": "code",
      "metadata": {
        "colab": {
          "base_uri": "https://localhost:8080/",
          "height": 295
        },
        "id": "jqMotABpZq1H",
        "outputId": "36fa807f-b1a9-402b-bb5b-60eea2a9e354"
      },
      "source": [
        "pd.DataFrame(data=distances_mtd1).describe()"
      ],
      "execution_count": 96,
      "outputs": [
        {
          "output_type": "execute_result",
          "data": {
            "text/html": [
              "<div>\n",
              "<style scoped>\n",
              "    .dataframe tbody tr th:only-of-type {\n",
              "        vertical-align: middle;\n",
              "    }\n",
              "\n",
              "    .dataframe tbody tr th {\n",
              "        vertical-align: top;\n",
              "    }\n",
              "\n",
              "    .dataframe thead th {\n",
              "        text-align: right;\n",
              "    }\n",
              "</style>\n",
              "<table border=\"1\" class=\"dataframe\">\n",
              "  <thead>\n",
              "    <tr style=\"text-align: right;\">\n",
              "      <th></th>\n",
              "      <th>0</th>\n",
              "    </tr>\n",
              "  </thead>\n",
              "  <tbody>\n",
              "    <tr>\n",
              "      <th>count</th>\n",
              "      <td>1.106000e+03</td>\n",
              "    </tr>\n",
              "    <tr>\n",
              "      <th>mean</th>\n",
              "      <td>4.012803e+05</td>\n",
              "    </tr>\n",
              "    <tr>\n",
              "      <th>std</th>\n",
              "      <td>1.236813e+06</td>\n",
              "    </tr>\n",
              "    <tr>\n",
              "      <th>min</th>\n",
              "      <td>3.024950e+01</td>\n",
              "    </tr>\n",
              "    <tr>\n",
              "      <th>25%</th>\n",
              "      <td>4.875478e+02</td>\n",
              "    </tr>\n",
              "    <tr>\n",
              "      <th>50%</th>\n",
              "      <td>8.604003e+02</td>\n",
              "    </tr>\n",
              "    <tr>\n",
              "      <th>75%</th>\n",
              "      <td>1.222266e+03</td>\n",
              "    </tr>\n",
              "    <tr>\n",
              "      <th>max</th>\n",
              "      <td>8.078946e+06</td>\n",
              "    </tr>\n",
              "  </tbody>\n",
              "</table>\n",
              "</div>"
            ],
            "text/plain": [
              "                  0\n",
              "count  1.106000e+03\n",
              "mean   4.012803e+05\n",
              "std    1.236813e+06\n",
              "min    3.024950e+01\n",
              "25%    4.875478e+02\n",
              "50%    8.604003e+02\n",
              "75%    1.222266e+03\n",
              "max    8.078946e+06"
            ]
          },
          "metadata": {},
          "execution_count": 96
        }
      ]
    },
    {
      "cell_type": "code",
      "metadata": {
        "id": "e8JPD85-Z_N6",
        "colab": {
          "base_uri": "https://localhost:8080/",
          "height": 295
        },
        "outputId": "cd64aa64-2107-47f5-ede3-218888e11bed"
      },
      "source": [
        "pd.DataFrame(data=distances_mtd2).describe()"
      ],
      "execution_count": 97,
      "outputs": [
        {
          "output_type": "execute_result",
          "data": {
            "text/html": [
              "<div>\n",
              "<style scoped>\n",
              "    .dataframe tbody tr th:only-of-type {\n",
              "        vertical-align: middle;\n",
              "    }\n",
              "\n",
              "    .dataframe tbody tr th {\n",
              "        vertical-align: top;\n",
              "    }\n",
              "\n",
              "    .dataframe thead th {\n",
              "        text-align: right;\n",
              "    }\n",
              "</style>\n",
              "<table border=\"1\" class=\"dataframe\">\n",
              "  <thead>\n",
              "    <tr style=\"text-align: right;\">\n",
              "      <th></th>\n",
              "      <th>0</th>\n",
              "    </tr>\n",
              "  </thead>\n",
              "  <tbody>\n",
              "    <tr>\n",
              "      <th>count</th>\n",
              "      <td>1.106000e+03</td>\n",
              "    </tr>\n",
              "    <tr>\n",
              "      <th>mean</th>\n",
              "      <td>4.955202e+05</td>\n",
              "    </tr>\n",
              "    <tr>\n",
              "      <th>std</th>\n",
              "      <td>1.224937e+06</td>\n",
              "    </tr>\n",
              "    <tr>\n",
              "      <th>min</th>\n",
              "      <td>8.871654e+01</td>\n",
              "    </tr>\n",
              "    <tr>\n",
              "      <th>25%</th>\n",
              "      <td>6.629253e+03</td>\n",
              "    </tr>\n",
              "    <tr>\n",
              "      <th>50%</th>\n",
              "      <td>3.560981e+04</td>\n",
              "    </tr>\n",
              "    <tr>\n",
              "      <th>75%</th>\n",
              "      <td>1.609826e+05</td>\n",
              "    </tr>\n",
              "    <tr>\n",
              "      <th>max</th>\n",
              "      <td>8.107910e+06</td>\n",
              "    </tr>\n",
              "  </tbody>\n",
              "</table>\n",
              "</div>"
            ],
            "text/plain": [
              "                  0\n",
              "count  1.106000e+03\n",
              "mean   4.955202e+05\n",
              "std    1.224937e+06\n",
              "min    8.871654e+01\n",
              "25%    6.629253e+03\n",
              "50%    3.560981e+04\n",
              "75%    1.609826e+05\n",
              "max    8.107910e+06"
            ]
          },
          "metadata": {},
          "execution_count": 97
        }
      ]
    },
    {
      "cell_type": "code",
      "metadata": {
        "id": "ly8J5UsYTu0x"
      },
      "source": [
        ""
      ],
      "execution_count": null,
      "outputs": []
    }
  ]
}