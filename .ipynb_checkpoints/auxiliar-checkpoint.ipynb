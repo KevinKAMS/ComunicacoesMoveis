{
 "cells": [
  {
   "cell_type": "code",
   "execution_count": 1,
   "id": "45d7b9b3",
   "metadata": {},
   "outputs": [],
   "source": [
    "import pandas as pd\n",
    "import numpy as np\n",
    "import math\n",
    "import os\n",
    "import random\n",
    "from scipy.spatial import distance"
   ]
  },
  {
   "cell_type": "code",
   "execution_count": 2,
   "id": "13149c98",
   "metadata": {},
   "outputs": [],
   "source": [
    "def latToKm(min, max):\n",
    "    return ((max-min)*111.11)"
   ]
  },
  {
   "cell_type": "code",
   "execution_count": 3,
   "id": "426af65b",
   "metadata": {},
   "outputs": [],
   "source": [
    "def two_point_distance(a_x, a_y, b_x, b_y):\n",
    "    eDistance = math.dist([a_x, a_y], [b_x, b_y])\n",
    "    return eDistance"
   ]
  },
  {
   "cell_type": "code",
   "execution_count": 4,
   "id": "26581b5e",
   "metadata": {},
   "outputs": [],
   "source": [
    "def euclidian_distance(a,b):\n",
    "    return distance.euclidean(a,b)"
   ]
  },
  {
   "cell_type": "code",
   "execution_count": 7,
   "id": "46580e05",
   "metadata": {},
   "outputs": [],
   "source": [
    "# função para dividir a base de dados em treino e teste\n",
    "def divide_database():\n",
    "    size = 0\n",
    "    elems = []\n",
    "    DATA_DIR = os.getcwd() + \"/database\"\n",
    "    data = pd.read_csv(DATA_DIR + \"/LocTreino_Equipe4.csv\")\n",
    "\n",
    "    while(size < 150):\n",
    "        i = random.randint(0,1499 - size)\n",
    "        if (i in data.index):\n",
    "            elems.append(data.loc[i])\n",
    "            data.drop(i, inplace=True)\n",
    "            size += 1\n",
    "\n",
    "    test_df = pd.DataFrame(elems)\n",
    "    #test_df.drop(columns=['lat', 'lon'], inplace=True)\n",
    "    test_df.to_csv(DATA_DIR + \"/LocTeste.csv\", index=False)\n",
    "    data.to_csv(DATA_DIR + \"/LocTreino.csv\", index=False)"
   ]
  },
  {
   "cell_type": "code",
   "execution_count": 8,
   "id": "47f03269",
   "metadata": {},
   "outputs": [],
   "source": []
  },
  {
   "cell_type": "code",
   "execution_count": 1,
   "id": "dfefdcf2",
   "metadata": {},
   "outputs": [],
   "source": [
    "def merge_on_pontoId(df_1, df_2):\n",
    "    \"\"\"\n",
    "    Faz um merge de dois DataFrame usando o pontoId como referência\n",
    "    \"\"\"\n",
    "    return pd.merge(df_1, df_2, how='inner', on=['pontoId'])"
   ]
  },
  {
   "cell_type": "code",
   "execution_count": null,
   "id": "8eaf8966",
   "metadata": {},
   "outputs": [],
   "source": []
  }
 ],
 "metadata": {
  "kernelspec": {
   "display_name": "Python 3",
   "language": "python",
   "name": "python3"
  },
  "language_info": {
   "codemirror_mode": {
    "name": "ipython",
    "version": 3
   },
   "file_extension": ".py",
   "mimetype": "text/x-python",
   "name": "python",
   "nbconvert_exporter": "python",
   "pygments_lexer": "ipython3",
   "version": "3.9.0"
  }
 },
 "nbformat": 4,
 "nbformat_minor": 5
}
