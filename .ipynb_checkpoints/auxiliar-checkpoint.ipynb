{
 "cells": [
  {
   "cell_type": "code",
   "execution_count": 2,
   "id": "59c5cc0b",
   "metadata": {},
   "outputs": [],
   "source": [
    "import pandas as pd\n",
    "import numpy as np\n",
    "import math\n",
    "import os\n",
    "import random\n",
    "from scipy.spatial import distance"
   ]
  },
  {
   "cell_type": "code",
   "execution_count": 3,
   "id": "e5561001",
   "metadata": {},
   "outputs": [],
   "source": [
    "def latToKm(min, max):\n",
    "    return ((max-min)*111.11)"
   ]
  },
  {
   "cell_type": "code",
   "execution_count": null,
   "id": "fcb2e587",
   "metadata": {},
   "outputs": [],
   "source": [
    "def two_point_distance(a_x, a_y, b_x, b_y):\n",
    "    eDistance = math.dist([a_x, a_y], [b_x, b_y])\n",
    "    return eDistance"
   ]
  },
  {
   "cell_type": "code",
   "execution_count": null,
   "id": "cc3c6de7",
   "metadata": {},
   "outputs": [],
   "source": [
    "def euclidian_distance(a,b):\n",
    "    return distance.euclidean(a,b)"
   ]
  }
 ],
 "metadata": {
  "kernelspec": {
   "display_name": "Python 3",
   "language": "python",
   "name": "python3"
  },
  "language_info": {
   "codemirror_mode": {
    "name": "ipython",
    "version": 3
   },
   "file_extension": ".py",
   "mimetype": "text/x-python",
   "name": "python",
   "nbconvert_exporter": "python",
   "pygments_lexer": "ipython3",
   "version": "3.9.0"
  }
 },
 "nbformat": 4,
 "nbformat_minor": 5
}
