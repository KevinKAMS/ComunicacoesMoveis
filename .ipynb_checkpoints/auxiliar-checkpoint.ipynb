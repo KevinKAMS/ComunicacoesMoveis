{
 "cells": [
  {
   "cell_type": "code",
   "execution_count": 1,
   "id": "92744288",
   "metadata": {},
   "outputs": [],
   "source": [
    "import pandas as pd\n",
    "import numpy as np\n",
    "import math\n",
    "import os\n",
    "import random\n",
    "from scipy.spatial import distance"
   ]
  },
  {
   "cell_type": "code",
   "execution_count": 2,
   "id": "bdae25e2",
   "metadata": {},
   "outputs": [],
   "source": [
    "def latToKm(min, max):\n",
    "    return ((max-min)*111.11)"
   ]
  },
  {
   "cell_type": "code",
   "execution_count": 3,
   "id": "c46172e3",
   "metadata": {},
   "outputs": [],
   "source": [
    "def two_point_distance(a_x, a_y, b_x, b_y):\n",
    "    eDistance = math.dist([a_x, a_y], [b_x, b_y])\n",
    "    return eDistance"
   ]
  },
  {
   "cell_type": "code",
   "execution_count": 4,
   "id": "7ca996bf",
   "metadata": {},
   "outputs": [],
   "source": [
    "def euclidian_distance(a,b):\n",
    "    return distance.euclidean(a,b)"
   ]
  },
  {
   "cell_type": "code",
   "execution_count": 5,
   "id": "36f02cfe",
   "metadata": {},
   "outputs": [],
   "source": [
    "# função para dividir a base de dados em treino e teste\n",
    "def divide_database():\n",
    "    size = 0\n",
    "    elems = []\n",
    "    DATA_DIR = os.getcwd() + \"/database\"\n",
    "    data = pd.read_csv(DATA_DIR + \"/LocTeste.csv\")\n",
    "\n",
    "    while(size < 150):\n",
    "        i = random.randint(0,1499 - size)\n",
    "        if (i in data.index):\n",
    "            elems.append(data.loc[i])\n",
    "            data.drop(i, inplace=True)\n",
    "            size += 1\n",
    "\n",
    "    test_df = pd.DataFrame(elems)\n",
    "    #test_df.drop(columns=['lat', 'lon'], inplace=True)\n",
    "    test_df.to_csv(DATA_DIR + \"/LocTeste.csv\", index=False)\n",
    "    data.to_csv(DATA_DIR + \"/LocTeste.csv\", index=False)"
   ]
  },
  {
   "cell_type": "code",
   "execution_count": null,
   "id": "f46443a5",
   "metadata": {},
   "outputs": [],
   "source": []
  },
  {
   "cell_type": "code",
   "execution_count": 6,
   "id": "2471bccd",
   "metadata": {},
   "outputs": [],
   "source": [
    "def merge_on_pontoId(df_1, df_2):\n",
    "    \"\"\"\n",
    "    Faz um merge de dois DataFrame usando o pontoId como referência\n",
    "    \"\"\"\n",
    "    return pd.merge(df_1, df_2, how='inner', on=['pontoId'])"
   ]
  },
  {
   "cell_type": "code",
   "execution_count": 7,
   "id": "56ca3428",
   "metadata": {},
   "outputs": [],
   "source": [
    "\n",
    "def calculate_errors():\n",
    "    \"\"\"\n",
    "    Retorna uma lista contendo os erros em metros de todos os pontos no real e na predição\n",
    "    \"\"\"\n",
    "    df_real = pd.read_csv(\"./database/LocTeste.csv\")\n",
    "    df_predict = pd.read_csv(\"./finalResult/Resultados_Equipe4_Metodo_2.csv\")\n",
    "    df_merged = merge_on_pontoId(df_predict, df_real)\n",
    "    errors = []\n",
    "    \n",
    "    for idx, point in df_merged.iterrows():\n",
    "        distance = two_point_distance(point.lat*111.11, point.lon*111.11,point.lat_pred*111.11, point.lon_pred*111.11)\n",
    "        errors.append(round(distance * 1000, 2))\n",
    "        \n",
    "    return pd.DataFrame(errors)"
   ]
  },
  {
   "cell_type": "code",
   "execution_count": null,
   "id": "d59405bf",
   "metadata": {},
   "outputs": [],
   "source": []
  },
  {
   "cell_type": "code",
   "execution_count": null,
   "id": "a53f432f",
   "metadata": {},
   "outputs": [],
   "source": []
  },
  {
   "cell_type": "code",
   "execution_count": null,
   "id": "7929fe70",
   "metadata": {},
   "outputs": [],
   "source": []
  }
 ],
 "metadata": {
  "kernelspec": {
   "display_name": "Python 3",
   "language": "python",
   "name": "python3"
  },
  "language_info": {
   "codemirror_mode": {
    "name": "ipython",
    "version": 3
   },
   "file_extension": ".py",
   "mimetype": "text/x-python",
   "name": "python",
   "nbconvert_exporter": "python",
   "pygments_lexer": "ipython3",
   "version": "3.9.0"
  }
 },
 "nbformat": 4,
 "nbformat_minor": 5
}
