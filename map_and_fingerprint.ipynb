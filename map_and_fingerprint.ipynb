{
 "cells": [
  {
   "cell_type": "code",
   "execution_count": 1,
   "id": "ff370280",
   "metadata": {},
   "outputs": [],
   "source": [
    "import pandas as pd\n",
    "import numpy as np\n",
    "import math\n",
    "import os\n",
    "\n",
    "%run auxiliar.ipynb"
   ]
  },
  {
   "cell_type": "code",
   "execution_count": 2,
   "id": "c3e8f419",
   "metadata": {},
   "outputs": [],
   "source": [
    "data = pd.read_csv(\"./database/LocTeste.csv\")"
   ]
  },
  {
   "cell_type": "markdown",
   "id": "6533132b",
   "metadata": {},
   "source": [
    "Primeiro é necessário criar um mapa de rádio para que se possa fazer a busca, aqui iremos criar um grid de 50x50 para representar o mapa onde cada célula representa uma região. Cada célula é representada por sua coordenada geográfica, cada célula é um possível lugar para o EM, porém é necessário que cada célula tenha seu fingerprint."
   ]
  },
  {
   "cell_type": "code",
   "execution_count": 3,
   "id": "3d6171d1",
   "metadata": {},
   "outputs": [],
   "source": [
    "#Latitude e longitude maximo e mínimo do db\n",
    "LAT_INI  = min(data['lat'])\n",
    "LAT_FIN  = max(data['lat'])\n",
    "LONG_INI = min(data['lon'])\n",
    "LONG_FIN = max(data['lon'])"
   ]
  },
  {
   "cell_type": "code",
   "execution_count": 4,
   "id": "3d164f1c",
   "metadata": {},
   "outputs": [
    {
     "name": "stdout",
     "output_type": "stream",
     "text": [
      "1855.0925599999555\n",
      "2212.0889899998224\n"
     ]
    }
   ],
   "source": [
    "#Tamanho em metros do grid\n",
    "y_tam = latToKm(LAT_INI, LAT_FIN)*1000\n",
    "x_tam = latToKm(LONG_INI, LONG_FIN)*1000\n",
    "print(y_tam)\n",
    "print(x_tam)"
   ]
  },
  {
   "cell_type": "code",
   "execution_count": 5,
   "id": "8805f65f",
   "metadata": {},
   "outputs": [
    {
     "name": "stdout",
     "output_type": "stream",
     "text": [
      "111\n",
      "93\n"
     ]
    }
   ],
   "source": [
    "#Tamanho em metros da celula\n",
    "cell_tam = 20\n",
    "\n",
    "#Numero de celulas em x e em y\n",
    "n_cell_x = math.ceil((x_tam / cell_tam))\n",
    "n_cell_y = math.ceil((y_tam / cell_tam))\n",
    "\n",
    "print(n_cell_x)\n",
    "print(n_cell_y)"
   ]
  },
  {
   "cell_type": "code",
   "execution_count": 6,
   "id": "700abed8",
   "metadata": {},
   "outputs": [],
   "source": [
    "#Incremento na Latitude\n",
    "inc_lat = (LAT_FIN - LAT_INI) / n_cell_x\n",
    "inc_lng = (LONG_FIN - LONG_INI) / n_cell_y\n",
    "\n",
    "result = []\n",
    "\n",
    "for i in range(n_cell_x):\n",
    "    for j in range(n_cell_y):\n",
    "        lat = LAT_INI + i * inc_lat\n",
    "        lng = LONG_INI + j * inc_lng\n",
    "        result.append((lat, lng))\n",
    "\n",
    "# salva para o CSV\n",
    "fingerprint_map = pd.DataFrame(result, columns=['lat', 'lon'])\n",
    "fingerprint_map.to_csv(\"./grid/grid_{}.csv\".format(cell_tam), index=False)\n"
   ]
  },
  {
   "cell_type": "markdown",
   "id": "de722407",
   "metadata": {},
   "source": [
    "Com os grids gerados, podemos começar a aplicar um modelo para gerar as fingerprints de Path Loss para cada uma das células do mapa."
   ]
  },
  {
   "cell_type": "markdown",
   "id": "c912928f",
   "metadata": {},
   "source": [
    "Aqui podemos usar dois modelos, Okumura-Hata ou o Ericson 9999, vamos começar tentando com o Okumura-Hata, como não temos acesso a altura da base e da antena colocaremos um valor médio de 100m e 5m em cada uma."
   ]
  },
  {
   "cell_type": "markdown",
   "id": "46bab8d7",
   "metadata": {},
   "source": [
    "Hata Model"
   ]
  },
  {
   "cell_type": "code",
   "execution_count": 7,
   "id": "635e4be3",
   "metadata": {},
   "outputs": [],
   "source": [
    "def correction_factor(altura_antena):\n",
    "    return 3.2*(np.log10(11.75*altura_antena))**2 - 4.95\n",
    "\n",
    "def hata_model(frequency, altura_base, altura_antena, distancia):\n",
    "    med_loss = (65.55 + 26.26*np.log10(frequency) - 13.82*np.log10(altura_base) \\\n",
    "                - correction_factor(altura_antena) + \\\n",
    "                (44.9 - 6.55*np.log10(altura_base))*np.log10(distancia))\n",
    "    return 2*(med_loss)\n"
   ]
  },
  {
   "cell_type": "markdown",
   "id": "08831346",
   "metadata": {},
   "source": [
    "Freespace Model"
   ]
  },
  {
   "cell_type": "code",
   "execution_count": 8,
   "id": "b877abfb",
   "metadata": {},
   "outputs": [],
   "source": [
    "def freespace_model(frequency, altura_base, altura_antena, distancia):\n",
    "    med_loss = 32.44 + 20*np.log10(distancia) + 20*np.log10(frequency)\n",
    "    return 2*(med_loss)\n"
   ]
  },
  {
   "cell_type": "markdown",
   "id": "492de368",
   "metadata": {},
   "source": [
    "Coste231 Model"
   ]
  },
  {
   "cell_type": "code",
   "execution_count": 9,
   "id": "8278f71e",
   "metadata": {},
   "outputs": [],
   "source": [
    "def correction_factor_cost(frequency,altura_antena):\n",
    "    return ((1.1*(np.log10(frequency))-0.7)*altura_antena - (1.56*(np.log10(frequency))-0.8))\n",
    "\n",
    "def cost231_model(frequency, altura_base, altura_antena, distancia):\n",
    "    med_loss = 2*(46.3 + 33.9*np.log10(frequency) - 13.82*np.log10(altura_base) \\\n",
    "                - correction_factor_cost(frequency,altura_antena)  + \\\n",
    "                (44.9 - 6.55*np.log10(altura_base))*np.log10(distancia))\n",
    "    return med_loss\n"
   ]
  },
  {
   "cell_type": "markdown",
   "id": "acaaf129",
   "metadata": {},
   "source": [
    "Ericson Model"
   ]
  },
  {
   "cell_type": "code",
   "execution_count": 10,
   "id": "e3cb8b6a",
   "metadata": {},
   "outputs": [],
   "source": [
    "def ericson_model(frequency, altura_base, altura_antena, distancia):\n",
    "    g = 44.49*np.log10(frequency)-4.78*(np.log10(frequency)**2)\n",
    "    a2= 12\n",
    "    a3= 0.1\n",
    "    a0,a1 = 43.2,68.9\n",
    "    med_loss=a0+a1*np.log10(distancia)+a2*np.log10(altura_base) \\\n",
    "            +a3*(np.log10(altura_base))*(np.log10(distancia)) \\\n",
    "            -3.2*np.log10((11.75*altura_antena)**2)+g\n",
    "    return (2*med_loss)"
   ]
  },
  {
   "cell_type": "markdown",
   "id": "6fcdb4bb",
   "metadata": {},
   "source": [
    "ITU-R Model"
   ]
  },
  {
   "cell_type": "code",
   "execution_count": 11,
   "id": "e9bb734d",
   "metadata": {},
   "outputs": [],
   "source": [
    "def itur_model(frequency, altura_base, altura_antena, distancia):\n",
    "    med_loss = 2*(40*np.log10(distancia) + 30*np.log10(frequency) + 49)\n",
    "    return med_loss"
   ]
  },
  {
   "cell_type": "markdown",
   "id": "629380cb",
   "metadata": {},
   "source": [
    "Aqui calculamos o pathloss e preenchemos um csv de fingerprint com os valores dos Pathloss para serem comparados futuramente"
   ]
  },
  {
   "cell_type": "code",
   "execution_count": 12,
   "id": "a1cbb659",
   "metadata": {},
   "outputs": [],
   "source": [
    "\n",
    "def calculate_pathloss(fingerprint, erb):\n",
    "    \"\"\"\n",
    "    Calcula todos os Path Loss para todos os pontos de um fingerprint\n",
    "    \"\"\"\n",
    "    path_list = []\n",
    "    lat_erb = erb['lat']\n",
    "    lon_erb = erb['lon']\n",
    "\n",
    "    for n, point in fingerprint.iterrows():\n",
    "        lat = point['lat']\n",
    "        lon = point['lon']\n",
    "        \n",
    "        distance = two_point_distance(lat_erb, lon_erb, lat, lon)\n",
    "        pathloss = cost231_model(frequency=1800, altura_base=50.0, altura_antena=1.5, distancia=distance)\n",
    "        \n",
    "        path_list.append(pathloss)\n",
    "    \n",
    "    return path_list\n",
    "\n",
    "\n",
    "def generate_grid(erbs, fingerprint):\n",
    "    \"\"\"\n",
    "    Gera um fingerprint e retorna como dataFrame\n",
    "    \"\"\"\n",
    "    path_dict = {}\n",
    "    for idx, erb in erbs.iterrows():\n",
    "        BTS = erb['bts']\n",
    "        path_dict[BTS] = calculate_pathloss(fingerprint, erb)\n",
    "    grid = pd.DataFrame(path_dict)\n",
    "    return grid\n",
    "\n",
    "\n",
    "def fingerprints_to_csv():\n",
    "    \"\"\"\n",
    "    Gera todos os fingerprints e salva em csv\n",
    "    \"\"\"\n",
    "    cell_tam = 20\n",
    "    erbs = pd.read_csv(\"./database/Dados_BTS.csv\")\n",
    "    fingerprint = pd.read_csv(\"./grid/grid_{}.csv\".format(cell_tam))\n",
    "    grid = generate_grid(erbs, fingerprint)\n",
    "    grid.insert(0, 'lat', fingerprint['lat'], True)\n",
    "    grid.insert(1, 'lon', fingerprint['lon'], True)\n",
    "    grid.to_csv(\"./fingerprint/fingerprint_{}.csv\".format(cell_tam), index=False)"
   ]
  },
  {
   "cell_type": "code",
   "execution_count": 13,
   "id": "464fb9c7",
   "metadata": {},
   "outputs": [],
   "source": [
    "fingerprints_to_csv()"
   ]
  },
  {
   "cell_type": "markdown",
   "id": "785b8037",
   "metadata": {},
   "source": [
    "Agora temos todos os fingerprints gerados"
   ]
  },
  {
   "cell_type": "code",
   "execution_count": null,
   "id": "f2aabdf8",
   "metadata": {},
   "outputs": [],
   "source": []
  }
 ],
 "metadata": {
  "kernelspec": {
   "display_name": "Python 3",
   "language": "python",
   "name": "python3"
  },
  "language_info": {
   "codemirror_mode": {
    "name": "ipython",
    "version": 3
   },
   "file_extension": ".py",
   "mimetype": "text/x-python",
   "name": "python",
   "nbconvert_exporter": "python",
   "pygments_lexer": "ipython3",
   "version": "3.9.0"
  }
 },
 "nbformat": 4,
 "nbformat_minor": 5
}
