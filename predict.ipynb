{
 "cells": [
  {
   "cell_type": "code",
   "execution_count": 1,
   "id": "1fd7f0a4",
   "metadata": {},
   "outputs": [],
   "source": [
    "import pandas as pd\n",
    "import numpy as np\n",
    "import math\n",
    "import os\n",
    "\n",
    "%run auxiliar.ipynb"
   ]
  },
  {
   "cell_type": "markdown",
   "id": "185c9786",
   "metadata": {},
   "source": [
    "Importando o fingerprint e a database de teste que vamos usar"
   ]
  },
  {
   "cell_type": "code",
   "execution_count": 2,
   "id": "42ca16d1",
   "metadata": {},
   "outputs": [],
   "source": [
    "FILE = './fingerprint/fingerprint_20.csv'\n",
    "TEST_DATABASE = \"./database/LocTeste.csv\"\n"
   ]
  },
  {
   "cell_type": "markdown",
   "id": "7a013511",
   "metadata": {},
   "source": [
    "Usando a formula de distancia euclidiana, procuramos o local na fingerprint que seja mais semelhante com o do ponto da base de testes e geramos um cvs com os resultados de latitude e longitude."
   ]
  },
  {
   "cell_type": "code",
   "execution_count": 3,
   "id": "6f5cb51d",
   "metadata": {},
   "outputs": [],
   "source": [
    "def get_nearest_point(fingerprint, point):\n",
    "    \"\"\"\n",
    "    Encontra o ponto no fingerprint tem a maior semelhança com o ponto passado no argumento\n",
    "    \"\"\"\n",
    "    min_dist = None\n",
    "    lat = None\n",
    "    lon = None\n",
    "\n",
    "    for idx, point_path in fingerprint.iterrows():\n",
    "        fg = point_path[2:]\n",
    "        dist = euclidian_distance(point[3:-6], fg)\n",
    "        \n",
    "        if (min_dist == None) or (min_dist > dist):\n",
    "            min_dist = dist\n",
    "            lat = point_path.lat\n",
    "            lon = point_path.lon\n",
    "\n",
    "    return lat, lon\n",
    "\n",
    "def calculate_coords_th(fingerprint, test_database):\n",
    "    \"\"\"\n",
    "    Calcula as coordenadas usando um fingerprint e retorna um dataframe contendo\n",
    "    latitude, longitude e pontoId\n",
    "    \"\"\"\n",
    "    points_dict = {'lat_pred': [], 'lon_pred': [], 'pontoId': []}\n",
    "    for idx, point in test_database.iterrows():\n",
    "        lat, lon = get_nearest_point(fingerprint, point)\n",
    "        points_dict['pontoId'].append(point.pontoId)\n",
    "        points_dict['lat_pred'].append(lat)\n",
    "        points_dict['lon_pred'].append(lon)\n",
    "    \n",
    "    return pd.DataFrame(points_dict)\n",
    "    \n",
    "\n",
    "def generate_theorical_results():\n",
    "    \"\"\"\n",
    "    Calcula as latitudes e longitudes estimadas dos pontos da base de teste usando cada um dos fingerprints\n",
    "    com as dimensões listadas no vetor DIM\n",
    "    \"\"\"\n",
    "    test_database = pd.read_csv(TEST_DATABASE)\n",
    "    fingerprint = pd.read_csv(FILE)\n",
    "    points_df = calculate_coords_th(fingerprint, test_database)\n",
    "    points_df.to_csv(\"./finalResult/Resultados_Equipe4_Metodo_2.csv\", index=False)"
   ]
  },
  {
   "cell_type": "code",
   "execution_count": null,
   "id": "eb8be0aa",
   "metadata": {},
   "outputs": [],
   "source": [
    "# gera os resultados teoricos\n",
    "generate_theorical_results()"
   ]
  },
  {
   "cell_type": "code",
   "execution_count": null,
   "id": "b0d685ac",
   "metadata": {},
   "outputs": [],
   "source": [
    "fingerprint = pd.read_csv(FILE)\n",
    "test_database = pd.read_csv(TEST_DATABASE)\n",
    "point = test_database.iloc[0]\n",
    "print(\"Ponto: \" + str(point[0]))\n",
    "get_nearest_point(fingerprint, point)"
   ]
  },
  {
   "cell_type": "code",
   "execution_count": null,
   "id": "45f833a1",
   "metadata": {},
   "outputs": [],
   "source": []
  }
 ],
 "metadata": {
  "kernelspec": {
   "display_name": "Python 3",
   "language": "python",
   "name": "python3"
  },
  "language_info": {
   "codemirror_mode": {
    "name": "ipython",
    "version": 3
   },
   "file_extension": ".py",
   "mimetype": "text/x-python",
   "name": "python",
   "nbconvert_exporter": "python",
   "pygments_lexer": "ipython3",
   "version": "3.9.0"
  }
 },
 "nbformat": 4,
 "nbformat_minor": 5
}
